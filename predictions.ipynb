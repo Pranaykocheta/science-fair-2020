{
 "cells": [
  {
   "cell_type": "code",
   "execution_count": 11,
   "metadata": {},
   "outputs": [],
   "source": [
    "from matplotlib import pyplot as plt\n",
    "\n",
    "import pandas as pd\n",
    "import numpy as np\n",
    "import os\n",
    "import cv2\n",
    "import matplotlib.pyplot as plt\n",
    "import random\n",
    "import tensorflow as tf\n",
    "from tensorflow.keras.models import Sequential\n",
    "from tensorflow.keras.layers import BatchNormalization\n",
    "from tensorflow.keras.layers import Conv2D\n",
    "from tensorflow.keras.layers import MaxPooling2D\n",
    "from tensorflow.keras.layers import Activation\n",
    "from tensorflow.keras.layers import Flatten\n",
    "from tensorflow.keras.layers import Dropout\n",
    "from tensorflow.keras.layers import Dense\n",
    "from tensorflow.keras.utils import to_categorical\n",
    "from tensorflow.keras.preprocessing.image import ImageDataGenerator\n",
    "from tensorflow.keras.optimizers import Adam\n",
    "import tensorflow as tf\n",
    "from tensorflow.keras.models import Sequential\n",
    "from tensorflow.keras.layers import BatchNormalization\n",
    "from tensorflow.keras.layers import Conv2D\n",
    "from tensorflow.keras.layers import MaxPooling2D\n",
    "\n",
    "from tensorflow.keras.layers import Flatten\n",
    "from tensorflow.keras.layers import Dropout\n",
    "from tensorflow.keras.layers import Dense\n"
   ]
  },
  {
   "cell_type": "code",
   "execution_count": 12,
   "metadata": {},
   "outputs": [
    {
     "name": "stdout",
     "output_type": "stream",
     "text": [
      "[[0.00237187 0.9463326  0.05129559]]\n"
     ]
    }
   ],
   "source": [
    "from tensorflow.python.platform import gfile\n",
    "x_test = cv2.imread(r'C:\\Users\\prana\\Downloads\\classes - Copy\\54cfb32c-be28-425e-b808-15cea182be78.jpg')\n",
    "#x_test = cv2.imread(r'C:\\Users\\prana\\Downloads\\classes\\canada_thistle\\0fd8e951242b22e03cbf4ab456cfbfcca6865595.jpg')\n",
    "#x_test = cv2.imread(r'C:\\Users\\prana\\Downloads\\classes\\garlic mustard\\0d435e8c243351277e03a6531f7ee99406f7b841.jpg')\n",
    "    \n",
    "with tf.Session() as sess:\n",
    "    with gfile.FastGFile(r'C:\\tmp\\output_graph.pb', 'rb') as f:\n",
    "        graph_def = tf.GraphDef()\n",
    "        graph_def.ParseFromString(f.read())\n",
    "        sess.graph.as_default()\n",
    "        g_in = tf.import_graph_def(graph_def)\n",
    "    tensor_output = sess.graph.get_tensor_by_name('import/final_result:0')\n",
    "    tensor_input = sess.graph.get_tensor_by_name('import/DecodeJpeg:0')\n",
    "    predictions = sess.run(tensor_output, {tensor_input:x_test})\n",
    "    print(predictions)"
   ]
  },
  {
   "cell_type": "code",
   "execution_count": null,
   "metadata": {},
   "outputs": [],
   "source": [
    "from tensorflow.python.platform import gfile\n",
    "with tf.Session() as sess:\n",
    "    with gfile.FastGFile(r'C:\\tmp\\output_graph.pb', 'rb') as f:\n",
    "        graph_def = tf.GraphDef()\n",
    "        graph_def.ParseFromString(f.read())\n",
    "        sess.graph.as_default()\n",
    "        g_in = tf.import_graph_def(graph_def)\n",
    "    for op in tf.get_default_graph().get_operations():\n",
    "        print(str(op.name))\n",
    "    for n in tf.get_default_graph().as_graph_def().node:\n",
    "         print(n.name)"
   ]
  },
  {
   "cell_type": "code",
   "execution_count": null,
   "metadata": {},
   "outputs": [],
   "source": [
    "# imports\n",
    "import pandas as pd\n",
    "import numpy as np\n",
    "import matplotlib.pyplot as plt\n",
    "\n",
    "# Load the data\n",
    "df = pd.read_csv(\"slope-lownoise.txt\", sep='\\t', header=None)\n",
    "labels = np.asarray(df[0]).reshape((len(df[0]),-1))\n",
    "data = np.asarray(df.iloc[:,1:])\n",
    "\n",
    "# Check data\n",
    "print(labels.shape)\n",
    "print(data.shape)\n",
    "\n",
    "# Normalize segments\n",
    "normdata = np.empty_like(data).astype('float64')\n",
    "for row in range(len(data)):\n",
    "    normdata[row] = (data[row] - min(data[row])) / (max(data[row]) - min(data[row]))"
   ]
  },
  {
   "cell_type": "code",
   "execution_count": null,
   "metadata": {},
   "outputs": [],
   "source": []
  },
  {
   "cell_type": "code",
   "execution_count": null,
   "metadata": {},
   "outputs": [],
   "source": []
  },
  {
   "cell_type": "code",
   "execution_count": null,
   "metadata": {},
   "outputs": [],
   "source": []
  },
  {
   "cell_type": "code",
   "execution_count": null,
   "metadata": {},
   "outputs": [],
   "source": [
    "class CNN(object):\n",
    "\n",
    "    def __init__(self, model_filepath):\n",
    "\n",
    "        # The file path of model\n",
    "        self.model_filepath = model_filepath\n",
    "        # Initialize the model\n",
    "        self.load_graph(model_filepath = self.model_filepath)\n",
    "\n",
    "    def load_graph(self, model_filepath):\n",
    "        '''\n",
    "        Lode trained model.\n",
    "        '''\n",
    "        print('Loading model...')\n",
    "        self.graph = tf.Graph()\n",
    "        self.sess = tf.InteractiveSession(graph = self.graph)\n",
    "\n",
    "        with tf.gfile.GFile(model_filepath, 'rb') as f:\n",
    "            graph_def = tf.GraphDef()\n",
    "            graph_def.ParseFromString(f.read())\n",
    "\n",
    "        #print('Check out the input placeholders:')\n",
    "        #nodes = [n.name + ' => ' +  n.op for n in graph_def.node if n.op in ('Placeholder')]\n",
    "        #for node in nodes:\n",
    "            #print(node)\n",
    "        \n",
    "        # Define input tensor\n",
    "        #self.input = tf.placeholder(np.float32, shape = [None, 150, 32, 3], name='input')\n",
    "        self.input = tf.placeholder(np.float32, shape = [150, 150, 3], name='input')\n",
    "        self.dropout_rate = tf.placeholder(tf.float32, shape = [], name = 'dropout_rate')\n",
    "\n",
    "        tf.import_graph_def(graph_def, {'input': self.input, 'dropout_rate': self.dropout_rate})\n",
    "        #tf.import_graph_def(graph_def)\n",
    "\n",
    "        print('Model loading complete!')\n",
    "\n",
    "        '''\n",
    "        # Get layer names\n",
    "        layers = [op.name for op in self.graph.get_operations()]\n",
    "        for layer in layers:\n",
    "            print(layer)\n",
    "        '''\n",
    "\n",
    "        '''\n",
    "        # Check out the weights of the nodes\n",
    "        weight_nodes = [n for n in graph_def.node if n.op == 'Const']\n",
    "        for n in weight_nodes:\n",
    "            print(\"Name of the node - %s\" % n.name)\n",
    "            print(\"Value - \" )\n",
    "            print(tensor_util.MakeNdarray(n.attr['value'].tensor))\n",
    "        '''\n",
    "\n",
    "    def test(self, data):\n",
    "\n",
    "        # Know your output node name\n",
    "        output_tensor = self.graph.get_tensor_by_name(\"import/final_result:0\")\n",
    "        output = self.sess.run(output_tensor, feed_dict = {self.input: data})\n",
    "\n",
    "        return output\n",
    "    "
   ]
  },
  {
   "cell_type": "code",
   "execution_count": null,
   "metadata": {
    "scrolled": false
   },
   "outputs": [],
   "source": [
    "def test_from_frozen_graph(model_filepath):\n",
    "\n",
    "    tf.reset_default_graph()\n",
    "\n",
    "    # Load CIFAR10 dataset\n",
    "    x_test = cv2.imread(r'C:\\Users\\prana\\Downloads\\classes\\purple_loosestrife\\0cd0f56dc0c4b2668e1fe029512aedacad689e1c.jpg')\n",
    "    x_test4 = [x_test]\n",
    "    model = CNN(model_filepath = model_filepath)\n",
    "\n",
    "    for op in tf.get_default_graph().get_operations():\n",
    "        #print(str(op.name))\n",
    "        \n",
    "    for n in tf.get_default_graph().as_graph_def().node:\n",
    "        #print(n.name)\n",
    "            \n",
    "    test_prediction_onehot = model.test(data = x_test)\n",
    "    test_prediction = np.argmax(test_prediction_onehot, axis = 1).reshape((-1,1))\n",
    "    print(test_prediction)\n",
    "\n",
    "    \n",
    "test_from_frozen_graph(r'c:\\tmp\\output_graph.pb')\n"
   ]
  },
  {
   "cell_type": "code",
   "execution_count": null,
   "metadata": {},
   "outputs": [],
   "source": []
  }
 ],
 "metadata": {
  "kernelspec": {
   "display_name": "Python 3",
   "language": "python",
   "name": "python3"
  },
  "language_info": {
   "codemirror_mode": {
    "name": "ipython",
    "version": 3
   },
   "file_extension": ".py",
   "mimetype": "text/x-python",
   "name": "python",
   "nbconvert_exporter": "python",
   "pygments_lexer": "ipython3",
   "version": "3.7.8"
  }
 },
 "nbformat": 4,
 "nbformat_minor": 4
}
